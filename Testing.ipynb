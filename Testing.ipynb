{
 "cells": [
  {
   "cell_type": "code",
   "execution_count": 122,
   "metadata": {},
   "outputs": [],
   "source": [
    "import numpy as np\n",
    "import matplotlib.pyplot as plt\n",
    "import keras\n",
    "from PIL import Image\n",
    "from sklearn.linear_model import LogisticRegression\n",
    "import time\n",
    "%matplotlib inline"
   ]
  },
  {
   "cell_type": "code",
   "execution_count": 123,
   "metadata": {},
   "outputs": [],
   "source": [
    "from keras.datasets import mnist\n",
    "(x_train, y_train), (x_test, y_test) = mnist.load_data()      # import dataset"
   ]
  },
  {
   "cell_type": "code",
   "execution_count": 124,
   "metadata": {},
   "outputs": [
    {
     "name": "stdout",
     "output_type": "stream",
     "text": [
      "('Training data shape: ', (60000, 28, 28))\n",
      "('Training labels shape: ', (60000,))\n",
      "('Test data shape: ', (10000, 28, 28))\n",
      "('Test labels shape: ', (10000,))\n",
      "('Image_label:', 7)\n"
     ]
    },
    {
     "data": {
      "image/png": "[encoded data removed]",
      "text/plain": [
       "<matplotlib.figure.Figure at 0x65a64130>"
      ]
     },
     "metadata": {},
     "output_type": "display_data"
    }
   ],
   "source": [
    "print(\"Training data shape: \", x_train.shape)\n",
    "print(\"Training labels shape: \", y_train.shape)\n",
    "print(\"Test data shape: \", x_test.shape)\n",
    "print(\"Test labels shape: \", y_test.shape)\n",
    "\n",
    "x_train = x_train.astype('float32')\n",
    "x_test = x_test.astype('float32')\n",
    "x_train /= 255\n",
    "x_test /= 255\n",
    "\n",
    "Image_number = 52                            # pick a image number\n",
    "\n",
    "plt.figure(figsize = (1,1))\n",
    "plt.imshow(x_train[Image_number], cmap = 'gray')            # Show the grayscale image\n",
    "print(\"Image_label:\", y_train[Image_number])"
   ]
  },
  {
   "cell_type": "code",
   "execution_count": 125,
   "metadata": {},
   "outputs": [
    {
     "name": "stdout",
     "output_type": "stream",
     "text": [
      "('Training data shape: ', (60000, 784))\n",
      "('Training labels shape: ', (60000,))\n",
      "('Test data shape: ', (10000, 784))\n",
      "('Test labels shape: ', (10000,))\n"
     ]
    }
   ],
   "source": [
    "x_train = x_train.reshape(60000,28*28)      # change the shape of Training images\n",
    "x_test = x_test.reshape(10000,28*28)        # Change the shape of Testing images\n",
    "\n",
    "print(\"Training data shape: \", x_train.shape)\n",
    "print(\"Training labels shape: \", y_train.shape)\n",
    "print(\"Test data shape: \", x_test.shape)\n",
    "print(\"Test labels shape: \", y_test.shape)"
   ]
  },
  {
   "cell_type": "code",
   "execution_count": 131,
   "metadata": {},
   "outputs": [],
   "source": [
    "train_samples = 5000\n",
    "model = LogisticRegression(C=50. / train_samples,\n",
    "                         multi_class='multinomial',\n",
    "                         penalty='l2', solver='sag', tol=0.1)"
   ]
  },
  {
   "cell_type": "code",
   "execution_count": 132,
   "metadata": {},
   "outputs": [
    {
     "name": "stdout",
     "output_type": "stream",
     "text": [
      "('Training time', 40.37853693962097)\n"
     ]
    }
   ],
   "source": [
    "start = time.time()  # To calculate training time, Start\n",
    "\n",
    "model.fit(x_train[:20000],y_train[:20000])           # Training function\n",
    "\n",
    "end = time.time()   # To calculate training time, Stop\n",
    "print ('Training time', end - start)"
   ]
  },
  {
   "cell_type": "code",
   "execution_count": 133,
   "metadata": {},
   "outputs": [
    {
     "name": "stdout",
     "output_type": "stream",
     "text": [
      "0.9146\n"
     ]
    }
   ],
   "source": [
    "score = model.score(x_test,y_test)                # Check accuracy on test set\n",
    "print(score)"
   ]
  },
  {
   "cell_type": "code",
   "execution_count": 134,
   "metadata": {},
   "outputs": [
    {
     "name": "stdout",
     "output_type": "stream",
     "text": [
      "('Correct Image_label:', 5)\n",
      "('Predicted Label: ', array([5], dtype=uint8))\n"
     ]
    },
    {
     "data": {
      "text/plain": [
       "<matplotlib.image.AxesImage at 0x64c4f370>"
      ]
     },
     "execution_count": 134,
     "metadata": {},
     "output_type": "execute_result"
    },
    {
     "data": {
      "image/png": "[encoded data removed]",
      "text/plain": [
       "<matplotlib.figure.Figure at 0x64e33b70>"
      ]
     },
     "metadata": {},
     "output_type": "display_data"
    }
   ],
   "source": [
    "Test_image_number = 52             # Test image number\n",
    "print(\"Correct Image_label:\", y_test[Test_image_number])             # Correct Image label\n",
    "\n",
    "Predicted_label = model.predict(x_test[Test_image_number].reshape(1,28*28))\n",
    "print(\"Predicted Label: \", Predicted_label)\n",
    "\n",
    "plt.figure(figsize = (1,1))\n",
    "plt.imshow(x_test[Test_image_number].reshape(28,28), cmap = 'gray') # reshape image and show"
   ]
  },
  {
   "cell_type": "code",
   "execution_count": 135,
   "metadata": {},
   "outputs": [
    {
     "name": "stdout",
     "output_type": "stream",
     "text": [
      "('Predicted Label: ', array([3], dtype=uint8))\n"
     ]
    },
    {
     "data": {
      "image/png": "[encoded data removed]",
      "text/plain": [
       "<matplotlib.figure.Figure at 0x64ed6730>"
      ]
     },
     "metadata": {},
     "output_type": "display_data"
    }
   ],
   "source": [
    "gimp_image = np.array(Image.open('gimp_image.png'))\n",
    "\n",
    "plt.figure( figsize = (1,1))\n",
    "plt.imshow(gimp_image, cmap = 'gray')\n",
    "print(\"Predicted Label: \", model.predict(gimp_image.reshape(1,28*28)))"
   ]
  },
  {
   "cell_type": "code",
   "execution_count": null,
   "metadata": {},
   "outputs": [],
   "source": []
  }
 ],
 "metadata": {
  "kernelspec": {
   "display_name": "Python 2",
   "language": "python",
   "name": "python2"
  },
  "language_info": {
   "codemirror_mode": {
    "name": "ipython",
    "version": 2
   },
   "file_extension": ".py",
   "mimetype": "text/x-python",
   "name": "python",
   "nbconvert_exporter": "python",
   "pygments_lexer": "ipython2",
   "version": "2.7.13"
  }
 },
 "nbformat": 4,
 "nbformat_minor": 1
}
